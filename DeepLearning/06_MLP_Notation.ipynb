{
 "cells": [
  {
   "cell_type": "markdown",
   "metadata": {},
   "source": [
    "👨‍💻 **Author:** Zohaib Ahmad\n",
    "\n",
    "[![GitHub](https://img.shields.io/badge/GitHub-zohaibkk-blue?style=flat&logo=github)](https://github.com/zohaibkk)\n",
    "[![Kaggle](https://img.shields.io/badge/Kaggle-zohaibkk-blue?style=flat&logo=kaggle)](https://www.kaggle.com/zohaibkk)\n",
    "[![LinkedIn](https://img.shields.io/badge/LinkedIn-zohaibkk-blue?style=flat&logo=linkedin)](https://www.linkedin.com/in/zohaibkk/)"
   ]
  },
  {
   "cell_type": "code",
   "execution_count": 11,
   "metadata": {},
   "outputs": [
    {
     "name": "stderr",
     "output_type": "stream",
     "text": [
      "'[Image' is not recognized as an internal or external command,\n",
      "operable program or batch file.\n"
     ]
    }
   ],
   "source": [
    "![Image Alt text](C:/Users/zohai/Desktop/DataScienceChilla/DeepLearning/image.png)\n",
    "\n"
   ]
  },
  {
   "cell_type": "code",
   "execution_count": 12,
   "metadata": {},
   "outputs": [
    {
     "name": "stderr",
     "output_type": "stream",
     "text": [
      "'[Image' is not recognized as an internal or external command,\n",
      "operable program or batch file.\n"
     ]
    }
   ],
   "source": [
    "![Image Alt text](image.png)\n"
   ]
  }
 ],
 "metadata": {
  "kernelspec": {
   "display_name": "ml_env",
   "language": "python",
   "name": "python3"
  },
  "language_info": {
   "codemirror_mode": {
    "name": "ipython",
    "version": 3
   },
   "file_extension": ".py",
   "mimetype": "text/x-python",
   "name": "python",
   "nbconvert_exporter": "python",
   "pygments_lexer": "ipython3",
   "version": "3.12.0"
  }
 },
 "nbformat": 4,
 "nbformat_minor": 2
}
