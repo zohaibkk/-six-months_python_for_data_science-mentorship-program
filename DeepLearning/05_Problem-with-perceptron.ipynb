{
 "cells": [
  {
   "cell_type": "markdown",
   "metadata": {},
   "source": [
    "👨‍💻 **Author:** Zohaib Ahmad\n",
    "\n",
    "[![GitHub](https://img.shields.io/badge/GitHub-zohaibkk-blue?style=flat&logo=github)](https://github.com/zohaibkk)\n",
    "[![Kaggle](https://img.shields.io/badge/Kaggle-zohaibkk-blue?style=flat&logo=kaggle)](https://www.kaggle.com/zohaibkk)\n",
    "[![LinkedIn](https://img.shields.io/badge/LinkedIn-zohaibkk-blue?style=flat&logo=linkedin)](https://www.linkedin.com/in/zohaibkk/)"
   ]
  },
  {
   "cell_type": "code",
   "execution_count": 1,
   "metadata": {},
   "outputs": [],
   "source": [
    "import numpy as np\n",
    "import pandas as pd\n",
    "import matplotlib.pyplot as plt\n",
    "import seaborn as sns"
   ]
  },
  {
   "cell_type": "code",
   "execution_count": 2,
   "metadata": {},
   "outputs": [],
   "source": [
    "or_data = pd.DataFrame()\n",
    "and_data = pd.DataFrame()\n",
    "xor_data = pd.DataFrame()"
   ]
  },
  {
   "cell_type": "code",
   "execution_count": 4,
   "metadata": {},
   "outputs": [],
   "source": [
    "or_data['input1']=[1,1,0,0]\n",
    "or_data['input2']=[1,0,1,0]\n",
    "or_data['output']=[1,1,1,0]"
   ]
  },
  {
   "cell_type": "code",
   "execution_count": 5,
   "metadata": {},
   "outputs": [],
   "source": [
    "and_data['input1']=[1,1,0,0]\n",
    "and_data['input2']=[1,0,1,0]\n",
    "and_data['output']=[1,0,0,0]"
   ]
  },
  {
   "cell_type": "code",
   "execution_count": 7,
   "metadata": {},
   "outputs": [],
   "source": [
    "xor_data['input1']=[1,1,0,0]\n",
    "xor_data['input2']=[1,0,1,0]\n",
    "xor_data['output']=[0,1,1,0]"
   ]
  },
  {
   "cell_type": "code",
   "execution_count": 8,
   "metadata": {},
   "outputs": [
    {
     "data": {
      "text/html": [
       "<div>\n",
       "<style scoped>\n",
       "    .dataframe tbody tr th:only-of-type {\n",
       "        vertical-align: middle;\n",
       "    }\n",
       "\n",
       "    .dataframe tbody tr th {\n",
       "        vertical-align: top;\n",
       "    }\n",
       "\n",
       "    .dataframe thead th {\n",
       "        text-align: right;\n",
       "    }\n",
       "</style>\n",
       "<table border=\"1\" class=\"dataframe\">\n",
       "  <thead>\n",
       "    <tr style=\"text-align: right;\">\n",
       "      <th></th>\n",
       "      <th>input1</th>\n",
       "      <th>input2</th>\n",
       "      <th>output</th>\n",
       "    </tr>\n",
       "  </thead>\n",
       "  <tbody>\n",
       "    <tr>\n",
       "      <th>0</th>\n",
       "      <td>1</td>\n",
       "      <td>1</td>\n",
       "      <td>1</td>\n",
       "    </tr>\n",
       "    <tr>\n",
       "      <th>1</th>\n",
       "      <td>1</td>\n",
       "      <td>0</td>\n",
       "      <td>0</td>\n",
       "    </tr>\n",
       "    <tr>\n",
       "      <th>2</th>\n",
       "      <td>0</td>\n",
       "      <td>1</td>\n",
       "      <td>0</td>\n",
       "    </tr>\n",
       "    <tr>\n",
       "      <th>3</th>\n",
       "      <td>0</td>\n",
       "      <td>0</td>\n",
       "      <td>0</td>\n",
       "    </tr>\n",
       "  </tbody>\n",
       "</table>\n",
       "</div>"
      ],
      "text/plain": [
       "   input1  input2  output\n",
       "0       1       1       1\n",
       "1       1       0       0\n",
       "2       0       1       0\n",
       "3       0       0       0"
      ]
     },
     "execution_count": 8,
     "metadata": {},
     "output_type": "execute_result"
    }
   ],
   "source": [
    "and_data"
   ]
  },
  {
   "cell_type": "code",
   "execution_count": 9,
   "metadata": {},
   "outputs": [
    {
     "name": "stdout",
     "output_type": "stream",
     "text": [
      "Index(['input1', 'input2', 'output'], dtype='object')\n"
     ]
    }
   ],
   "source": [
    "print(and_data.columns)\n"
   ]
  },
  {
   "cell_type": "code",
   "execution_count": 13,
   "metadata": {},
   "outputs": [
    {
     "data": {
      "text/plain": [
       "<Axes: xlabel='input1', ylabel='input2'>"
      ]
     },
     "execution_count": 13,
     "metadata": {},
     "output_type": "execute_result"
    },
    {
     "data": {
      "image/png": "[encoded data removed]",
      "text/plain": [
       "<Figure size 640x480 with 1 Axes>"
      ]
     },
     "metadata": {},
     "output_type": "display_data"
    }
   ],
   "source": [
    "sns.scatterplot(x=and_data['input1'], y=and_data['input2'], hue=and_data['output'], s=200)"
   ]
  },
  {
   "cell_type": "code",
   "execution_count": 14,
   "metadata": {},
   "outputs": [
    {
     "data": {
      "text/html": [
       "<div>\n",
       "<style scoped>\n",
       "    .dataframe tbody tr th:only-of-type {\n",
       "        vertical-align: middle;\n",
       "    }\n",
       "\n",
       "    .dataframe tbody tr th {\n",
       "        vertical-align: top;\n",
       "    }\n",
       "\n",
       "    .dataframe thead th {\n",
       "        text-align: right;\n",
       "    }\n",
       "</style>\n",
       "<table border=\"1\" class=\"dataframe\">\n",
       "  <thead>\n",
       "    <tr style=\"text-align: right;\">\n",
       "      <th></th>\n",
       "      <th>input1</th>\n",
       "      <th>input2</th>\n",
       "      <th>output</th>\n",
       "    </tr>\n",
       "  </thead>\n",
       "  <tbody>\n",
       "    <tr>\n",
       "      <th>0</th>\n",
       "      <td>1</td>\n",
       "      <td>1</td>\n",
       "      <td>1</td>\n",
       "    </tr>\n",
       "    <tr>\n",
       "      <th>1</th>\n",
       "      <td>1</td>\n",
       "      <td>0</td>\n",
       "      <td>1</td>\n",
       "    </tr>\n",
       "    <tr>\n",
       "      <th>2</th>\n",
       "      <td>0</td>\n",
       "      <td>1</td>\n",
       "      <td>1</td>\n",
       "    </tr>\n",
       "    <tr>\n",
       "      <th>3</th>\n",
       "      <td>0</td>\n",
       "      <td>0</td>\n",
       "      <td>0</td>\n",
       "    </tr>\n",
       "  </tbody>\n",
       "</table>\n",
       "</div>"
      ],
      "text/plain": [
       "   input1  input2  output\n",
       "0       1       1       1\n",
       "1       1       0       1\n",
       "2       0       1       1\n",
       "3       0       0       0"
      ]
     },
     "execution_count": 14,
     "metadata": {},
     "output_type": "execute_result"
    }
   ],
   "source": [
    "or_data"
   ]
  },
  {
   "cell_type": "code",
   "execution_count": 16,
   "metadata": {},
   "outputs": [
    {
     "data": {
      "text/plain": [
       "<Axes: xlabel='input1', ylabel='input2'>"
      ]
     },
     "execution_count": 16,
     "metadata": {},
     "output_type": "execute_result"
    },
    {
     "data": {
      "image/png": "[encoded data removed]",
      "text/plain": [
       "<Figure size 640x480 with 1 Axes>"
      ]
     },
     "metadata": {},
     "output_type": "display_data"
    }
   ],
   "source": [
    "sns.scatterplot(x=or_data['input1'],y=or_data['input2'],hue=or_data['output'],s=200)"
   ]
  },
  {
   "cell_type": "code",
   "execution_count": 17,
   "metadata": {},
   "outputs": [
    {
     "data": {
      "text/html": [
       "<div>\n",
       "<style scoped>\n",
       "    .dataframe tbody tr th:only-of-type {\n",
       "        vertical-align: middle;\n",
       "    }\n",
       "\n",
       "    .dataframe tbody tr th {\n",
       "        vertical-align: top;\n",
       "    }\n",
       "\n",
       "    .dataframe thead th {\n",
       "        text-align: right;\n",
       "    }\n",
       "</style>\n",
       "<table border=\"1\" class=\"dataframe\">\n",
       "  <thead>\n",
       "    <tr style=\"text-align: right;\">\n",
       "      <th></th>\n",
       "      <th>input1</th>\n",
       "      <th>input2</th>\n",
       "      <th>output</th>\n",
       "    </tr>\n",
       "  </thead>\n",
       "  <tbody>\n",
       "    <tr>\n",
       "      <th>0</th>\n",
       "      <td>1</td>\n",
       "      <td>1</td>\n",
       "      <td>0</td>\n",
       "    </tr>\n",
       "    <tr>\n",
       "      <th>1</th>\n",
       "      <td>1</td>\n",
       "      <td>0</td>\n",
       "      <td>1</td>\n",
       "    </tr>\n",
       "    <tr>\n",
       "      <th>2</th>\n",
       "      <td>0</td>\n",
       "      <td>1</td>\n",
       "      <td>1</td>\n",
       "    </tr>\n",
       "    <tr>\n",
       "      <th>3</th>\n",
       "      <td>0</td>\n",
       "      <td>0</td>\n",
       "      <td>0</td>\n",
       "    </tr>\n",
       "  </tbody>\n",
       "</table>\n",
       "</div>"
      ],
      "text/plain": [
       "   input1  input2  output\n",
       "0       1       1       0\n",
       "1       1       0       1\n",
       "2       0       1       1\n",
       "3       0       0       0"
      ]
     },
     "execution_count": 17,
     "metadata": {},
     "output_type": "execute_result"
    }
   ],
   "source": [
    "xor_data"
   ]
  },
  {
   "cell_type": "code",
   "execution_count": 18,
   "metadata": {},
   "outputs": [
    {
     "data": {
      "text/plain": [
       "<Axes: xlabel='input1', ylabel='input2'>"
      ]
     },
     "execution_count": 18,
     "metadata": {},
     "output_type": "execute_result"
    },
    {
     "data": {
      "image/png": "[encoded data removed]",
      "text/plain": [
       "<Figure size 640x480 with 1 Axes>"
      ]
     },
     "metadata": {},
     "output_type": "display_data"
    }
   ],
   "source": [
    "sns.scatterplot(x=xor_data['input1'],y=xor_data['input2'],hue=xor_data['output'],s=200)"
   ]
  },
  {
   "cell_type": "code",
   "execution_count": 19,
   "metadata": {},
   "outputs": [],
   "source": [
    "from sklearn.linear_model import Perceptron\n",
    "clf1=Perceptron()\n",
    "clf2=Perceptron()\n",
    "clf3=Perceptron()"
   ]
  },
  {
   "cell_type": "code",
   "execution_count": 20,
   "metadata": {},
   "outputs": [
    {
     "data": {
      "text/html": [
       "<style>#sk-container-id-1 {color: black;}#sk-container-id-1 pre{padding: 0;}#sk-container-id-1 div.sk-toggleable {background-color: white;}#sk-container-id-1 label.sk-toggleable__label {cursor: pointer;display: block;width: 100%;margin-bottom: 0;padding: 0.3em;box-sizing: border-box;text-align: center;}#sk-container-id-1 label.sk-toggleable__label-arrow:before {content: \"▸\";float: left;margin-right: 0.25em;color: #696969;}#sk-container-id-1 label.sk-toggleable__label-arrow:hover:before {color: black;}#sk-container-id-1 div.sk-estimator:hover label.sk-toggleable__label-arrow:before {color: black;}#sk-container-id-1 div.sk-toggleable__content {max-height: 0;max-width: 0;overflow: hidden;text-align: left;background-color: #f0f8ff;}#sk-container-id-1 div.sk-toggleable__content pre {margin: 0.2em;color: black;border-radius: 0.25em;background-color: #f0f8ff;}#sk-container-id-1 input.sk-toggleable__control:checked~div.sk-toggleable__content {max-height: 200px;max-width: 100%;overflow: auto;}#sk-container-id-1 input.sk-toggleable__control:checked~label.sk-toggleable__label-arrow:before {content: \"▾\";}#sk-container-id-1 div.sk-estimator input.sk-toggleable__control:checked~label.sk-toggleable__label {background-color: #d4ebff;}#sk-container-id-1 div.sk-label input.sk-toggleable__control:checked~label.sk-toggleable__label {background-color: #d4ebff;}#sk-container-id-1 input.sk-hidden--visually {border: 0;clip: rect(1px 1px 1px 1px);clip: rect(1px, 1px, 1px, 1px);height: 1px;margin: -1px;overflow: hidden;padding: 0;position: absolute;width: 1px;}#sk-container-id-1 div.sk-estimator {font-family: monospace;background-color: #f0f8ff;border: 1px dotted black;border-radius: 0.25em;box-sizing: border-box;margin-bottom: 0.5em;}#sk-container-id-1 div.sk-estimator:hover {background-color: #d4ebff;}#sk-container-id-1 div.sk-parallel-item::after {content: \"\";width: 100%;border-bottom: 1px solid gray;flex-grow: 1;}#sk-container-id-1 div.sk-label:hover label.sk-toggleable__label {background-color: #d4ebff;}#sk-container-id-1 div.sk-serial::before {content: \"\";position: absolute;border-left: 1px solid gray;box-sizing: border-box;top: 0;bottom: 0;left: 50%;z-index: 0;}#sk-container-id-1 div.sk-serial {display: flex;flex-direction: column;align-items: center;background-color: white;padding-right: 0.2em;padding-left: 0.2em;position: relative;}#sk-container-id-1 div.sk-item {position: relative;z-index: 1;}#sk-container-id-1 div.sk-parallel {display: flex;align-items: stretch;justify-content: center;background-color: white;position: relative;}#sk-container-id-1 div.sk-item::before, #sk-container-id-1 div.sk-parallel-item::before {content: \"\";position: absolute;border-left: 1px solid gray;box-sizing: border-box;top: 0;bottom: 0;left: 50%;z-index: -1;}#sk-container-id-1 div.sk-parallel-item {display: flex;flex-direction: column;z-index: 1;position: relative;background-color: white;}#sk-container-id-1 div.sk-parallel-item:first-child::after {align-self: flex-end;width: 50%;}#sk-container-id-1 div.sk-parallel-item:last-child::after {align-self: flex-start;width: 50%;}#sk-container-id-1 div.sk-parallel-item:only-child::after {width: 0;}#sk-container-id-1 div.sk-dashed-wrapped {border: 1px dashed gray;margin: 0 0.4em 0.5em 0.4em;box-sizing: border-box;padding-bottom: 0.4em;background-color: white;}#sk-container-id-1 div.sk-label label {font-family: monospace;font-weight: bold;display: inline-block;line-height: 1.2em;}#sk-container-id-1 div.sk-label-container {text-align: center;}#sk-container-id-1 div.sk-container {/* jupyter's `normalize.less` sets `[hidden] { display: none; }` but bootstrap.min.css set `[hidden] { display: none !important; }` so we also need the `!important` here to be able to override the default hidden behavior on the sphinx rendered scikit-learn.org. See: https://github.com/scikit-learn/scikit-learn/issues/21755 */display: inline-block !important;position: relative;}#sk-container-id-1 div.sk-text-repr-fallback {display: none;}</style><div id=\"sk-container-id-1\" class=\"sk-top-container\"><div class=\"sk-text-repr-fallback\"><pre>Perceptron()</pre><b>In a Jupyter environment, please rerun this cell to show the HTML representation or trust the notebook. <br />On GitHub, the HTML representation is unable to render, please try loading this page with nbviewer.org.</b></div><div class=\"sk-container\" hidden><div class=\"sk-item\"><div class=\"sk-estimator sk-toggleable\"><input class=\"sk-toggleable__control sk-hidden--visually\" id=\"sk-estimator-id-1\" type=\"checkbox\" checked><label for=\"sk-estimator-id-1\" class=\"sk-toggleable__label sk-toggleable__label-arrow\">Perceptron</label><div class=\"sk-toggleable__content\"><pre>Perceptron()</pre></div></div></div></div></div>"
      ],
      "text/plain": [
       "Perceptron()"
      ]
     },
     "execution_count": 20,
     "metadata": {},
     "output_type": "execute_result"
    }
   ],
   "source": [
    "clf1.fit(and_data.iloc[:,0:2].values,and_data.iloc[:,-1].values)\n",
    "clf2.fit(or_data.iloc[:,0:2].values,or_data.iloc[:,-1].values)\n",
    "clf3.fit(xor_data.iloc[:,0:2].values,xor_data.iloc[:,-1].values)"
   ]
  },
  {
   "cell_type": "code",
   "execution_count": 21,
   "metadata": {},
   "outputs": [
    {
     "data": {
      "text/plain": [
       "array([[2., 2.]])"
      ]
     },
     "execution_count": 21,
     "metadata": {},
     "output_type": "execute_result"
    }
   ],
   "source": [
    "clf1.coef_"
   ]
  },
  {
   "cell_type": "code",
   "execution_count": 22,
   "metadata": {},
   "outputs": [
    {
     "data": {
      "text/plain": [
       "array([[2., 2.]])"
      ]
     },
     "execution_count": 22,
     "metadata": {},
     "output_type": "execute_result"
    }
   ],
   "source": [
    "clf1.coef_"
   ]
  },
  {
   "cell_type": "code",
   "execution_count": 23,
   "metadata": {},
   "outputs": [],
   "source": [
    "x=np.linspace(-1,1,5)\n",
    "y=-x+1"
   ]
  },
  {
   "cell_type": "code",
   "execution_count": 24,
   "metadata": {},
   "outputs": [
    {
     "data": {
      "text/plain": [
       "<Axes: xlabel='input1', ylabel='input2'>"
      ]
     },
     "execution_count": 24,
     "metadata": {},
     "output_type": "execute_result"
    },
    {
     "data": {
      "image/png": "[encoded data removed]",
      "text/plain": [
       "<Figure size 640x480 with 1 Axes>"
      ]
     },
     "metadata": {},
     "output_type": "display_data"
    }
   ],
   "source": [
    "plt.plot(x,y)\n",
    "sns.scatterplot(x=and_data['input1'],y=and_data['input2'],hue=and_data['output'],s=200)"
   ]
  },
  {
   "cell_type": "code",
   "execution_count": 25,
   "metadata": {},
   "outputs": [
    {
     "data": {
      "text/plain": [
       "array([[2., 2.]])"
      ]
     },
     "execution_count": 25,
     "metadata": {},
     "output_type": "execute_result"
    }
   ],
   "source": [
    "clf2.coef_"
   ]
  },
  {
   "cell_type": "code",
   "execution_count": 26,
   "metadata": {},
   "outputs": [
    {
     "data": {
      "text/plain": [
       "array([-1.])"
      ]
     },
     "execution_count": 26,
     "metadata": {},
     "output_type": "execute_result"
    }
   ],
   "source": [
    "clf2.intercept_"
   ]
  },
  {
   "cell_type": "code",
   "execution_count": 27,
   "metadata": {},
   "outputs": [],
   "source": [
    "x1=np.linspace(-1,1,5)\n",
    "y1=-x+0.5"
   ]
  },
  {
   "cell_type": "code",
   "execution_count": 28,
   "metadata": {},
   "outputs": [
    {
     "data": {
      "text/plain": [
       "<Axes: xlabel='input1', ylabel='input2'>"
      ]
     },
     "execution_count": 28,
     "metadata": {},
     "output_type": "execute_result"
    },
    {
     "data": {
      "image/png": "[encoded data removed]",
      "text/plain": [
       "<Figure size 640x480 with 1 Axes>"
      ]
     },
     "metadata": {},
     "output_type": "display_data"
    }
   ],
   "source": [
    "plt.plot(x1,y1)\n",
    "sns.scatterplot(x=or_data['input1'],y=or_data['input2'],hue=or_data['output'],s=200)"
   ]
  },
  {
   "cell_type": "code",
   "execution_count": 29,
   "metadata": {},
   "outputs": [
    {
     "data": {
      "text/plain": [
       "array([[0., 0.]])"
      ]
     },
     "execution_count": 29,
     "metadata": {},
     "output_type": "execute_result"
    }
   ],
   "source": [
    "clf3.coef_"
   ]
  },
  {
   "cell_type": "code",
   "execution_count": 31,
   "metadata": {},
   "outputs": [
    {
     "data": {
      "text/plain": [
       "array([0.])"
      ]
     },
     "execution_count": 31,
     "metadata": {},
     "output_type": "execute_result"
    }
   ],
   "source": [
    "clf3.intercept_"
   ]
  },
  {
   "cell_type": "code",
   "execution_count": 34,
   "metadata": {},
   "outputs": [
    {
     "name": "stdout",
     "output_type": "stream",
     "text": [
      "Collecting mlxtend\n",
      "  Obtaining dependency information for mlxtend from https://files.pythonhosted.org/packages/1c/07/512f6a780239ad6ce06ce2aa7b4067583f5ddcfc7703a964a082c706a070/mlxtend-0.23.1-py3-none-any.whl.metadata\n",
      "  Downloading mlxtend-0.23.1-py3-none-any.whl.metadata (7.3 kB)\n",
      "Requirement already satisfied: scipy>=1.2.1 in c:\\users\\zohai\\miniconda3\\envs\\ml_env\\lib\\site-packages (from mlxtend) (1.11.3)\n",
      "Requirement already satisfied: numpy>=1.16.2 in c:\\users\\zohai\\miniconda3\\envs\\ml_env\\lib\\site-packages (from mlxtend) (1.26.0)\n",
      "Requirement already satisfied: pandas>=0.24.2 in c:\\users\\zohai\\miniconda3\\envs\\ml_env\\lib\\site-packages (from mlxtend) (2.1.1)\n",
      "Requirement already satisfied: scikit-learn>=1.0.2 in c:\\users\\zohai\\miniconda3\\envs\\ml_env\\lib\\site-packages (from mlxtend) (1.3.2)\n",
      "Requirement already satisfied: matplotlib>=3.0.0 in c:\\users\\zohai\\miniconda3\\envs\\ml_env\\lib\\site-packages (from mlxtend) (3.8.0)\n",
      "Requirement already satisfied: joblib>=0.13.2 in c:\\users\\zohai\\miniconda3\\envs\\ml_env\\lib\\site-packages (from mlxtend) (1.3.2)\n",
      "Requirement already satisfied: contourpy>=1.0.1 in c:\\users\\zohai\\miniconda3\\envs\\ml_env\\lib\\site-packages (from matplotlib>=3.0.0->mlxtend) (1.1.1)\n",
      "Requirement already satisfied: cycler>=0.10 in c:\\users\\zohai\\miniconda3\\envs\\ml_env\\lib\\site-packages (from matplotlib>=3.0.0->mlxtend) (0.12.1)\n",
      "Requirement already satisfied: fonttools>=4.22.0 in c:\\users\\zohai\\miniconda3\\envs\\ml_env\\lib\\site-packages (from matplotlib>=3.0.0->mlxtend) (4.43.1)\n",
      "Requirement already satisfied: kiwisolver>=1.0.1 in c:\\users\\zohai\\miniconda3\\envs\\ml_env\\lib\\site-packages (from matplotlib>=3.0.0->mlxtend) (1.4.5)\n",
      "Requirement already satisfied: packaging>=20.0 in c:\\users\\zohai\\miniconda3\\envs\\ml_env\\lib\\site-packages (from matplotlib>=3.0.0->mlxtend) (23.2)\n",
      "Requirement already satisfied: pillow>=6.2.0 in c:\\users\\zohai\\miniconda3\\envs\\ml_env\\lib\\site-packages (from matplotlib>=3.0.0->mlxtend) (10.0.1)\n",
      "Requirement already satisfied: pyparsing>=2.3.1 in c:\\users\\zohai\\miniconda3\\envs\\ml_env\\lib\\site-packages (from matplotlib>=3.0.0->mlxtend) (3.1.1)\n",
      "Requirement already satisfied: python-dateutil>=2.7 in c:\\users\\zohai\\miniconda3\\envs\\ml_env\\lib\\site-packages (from matplotlib>=3.0.0->mlxtend) (2.8.2)\n",
      "Requirement already satisfied: pytz>=2020.1 in c:\\users\\zohai\\miniconda3\\envs\\ml_env\\lib\\site-packages (from pandas>=0.24.2->mlxtend) (2023.3.post1)\n",
      "Requirement already satisfied: tzdata>=2022.1 in c:\\users\\zohai\\miniconda3\\envs\\ml_env\\lib\\site-packages (from pandas>=0.24.2->mlxtend) (2023.3)\n",
      "Requirement already satisfied: threadpoolctl>=2.0.0 in c:\\users\\zohai\\miniconda3\\envs\\ml_env\\lib\\site-packages (from scikit-learn>=1.0.2->mlxtend) (3.2.0)\n",
      "Requirement already satisfied: six>=1.5 in c:\\users\\zohai\\miniconda3\\envs\\ml_env\\lib\\site-packages (from python-dateutil>=2.7->matplotlib>=3.0.0->mlxtend) (1.16.0)\n",
      "Downloading mlxtend-0.23.1-py3-none-any.whl (1.4 MB)\n",
      "   ---------------------------------------- 0.0/1.4 MB ? eta -:--:--\n",
      "   ---------------------------------------- 0.0/1.4 MB ? eta -:--:--\n",
      "   ---------------------------------------- 0.0/1.4 MB ? eta -:--:--\n",
      "   ---------------------------------------- 0.0/1.4 MB ? eta -:--:--\n",
      "   ---------------------------------------- 0.0/1.4 MB ? eta -:--:--\n",
      "   ---------------------------------------- 0.0/1.4 MB ? eta -:--:--\n",
      "   ---------------------------------------- 0.0/1.4 MB ? eta -:--:--\n",
      "   ---------------------------------------- 0.0/1.4 MB ? eta -:--:--\n",
      "   ---------------------------------------- 0.0/1.4 MB ? eta -:--:--\n",
      "   ---------------------------------------- 0.0/1.4 MB ? eta -:--:--\n",
      "   ---------------------------------------- 0.0/1.4 MB ? eta -:--:--\n",
      "   ---------------------------------------- 0.0/1.4 MB ? eta -:--:--\n",
      "   ---------------------------------------- 0.0/1.4 MB ? eta -:--:--\n",
      "   ---------------------------------------- 0.0/1.4 MB ? eta -:--:--\n",
      "   ---------------------------------------- 0.0/1.4 MB ? eta -:--:--\n",
      "   ---------------------------------------- 0.0/1.4 MB ? eta -:--:--\n",
      "   ---------------------------------------- 0.0/1.4 MB ? eta -:--:--\n",
      "   ---------------------------------------- 0.0/1.4 MB ? eta -:--:--\n",
      "   ---------------------------------------- 0.0/1.4 MB ? eta -:--:--\n",
      "   ---------------------------------------- 0.0/1.4 MB ? eta -:--:--\n",
      "   ---------------------------------------- 0.0/1.4 MB ? eta -:--:--\n",
      "   ---------------------------------------- 0.0/1.4 MB ? eta -:--:--\n",
      "   ---------------------------------------- 0.0/1.4 MB ? eta -:--:--\n",
      "   ---------------------------------------- 0.0/1.4 MB ? eta -:--:--\n",
      "    --------------------------------------- 0.0/1.4 MB ? eta -:--:--\n",
      "    --------------------------------------- 0.0/1.4 MB ? eta -:--:--\n",
      "    --------------------------------------- 0.0/1.4 MB ? eta -:--:--\n",
      "   - -------------------------------------- 0.0/1.4 MB 281.8 kB/s eta 0:00:05\n",
      "   - -------------------------------------- 0.0/1.4 MB 281.8 kB/s eta 0:00:05\n",
      "   - -------------------------------------- 0.0/1.4 MB 281.8 kB/s eta 0:00:05\n",
      "   - -------------------------------------- 0.0/1.4 MB 281.8 kB/s eta 0:00:05\n",
      "   - -------------------------------------- 0.0/1.4 MB 281.8 kB/s eta 0:00:05\n",
      "   - -------------------------------------- 0.0/1.4 MB 281.8 kB/s eta 0:00:05\n",
      "   - -------------------------------------- 0.0/1.4 MB 281.8 kB/s eta 0:00:05\n",
      "   - -------------------------------------- 0.0/1.4 MB 281.8 kB/s eta 0:00:05\n",
      "   - -------------------------------------- 0.0/1.4 MB 281.8 kB/s eta 0:00:05\n",
      "   - -------------------------------------- 0.0/1.4 MB 281.8 kB/s eta 0:00:05\n",
      "   - -------------------------------------- 0.1/1.4 MB 69.1 kB/s eta 0:00:21\n",
      "   - -------------------------------------- 0.1/1.4 MB 69.1 kB/s eta 0:00:21\n",
      "   - -------------------------------------- 0.1/1.4 MB 89.4 kB/s eta 0:00:16\n",
      "   - -------------------------------------- 0.1/1.4 MB 89.4 kB/s eta 0:00:16\n",
      "   - -------------------------------------- 0.1/1.4 MB 89.4 kB/s eta 0:00:16\n",
      "   - -------------------------------------- 0.1/1.4 MB 89.4 kB/s eta 0:00:16\n",
      "   - -------------------------------------- 0.1/1.4 MB 89.4 kB/s eta 0:00:16\n",
      "   -- ------------------------------------- 0.1/1.4 MB 77.8 kB/s eta 0:00:18\n",
      "   -- ------------------------------------- 0.1/1.4 MB 77.8 kB/s eta 0:00:18\n",
      "   -- ------------------------------------- 0.1/1.4 MB 77.8 kB/s eta 0:00:18\n",
      "   -- ------------------------------------- 0.1/1.4 MB 77.8 kB/s eta 0:00:18\n",
      "   -- ------------------------------------- 0.1/1.4 MB 77.8 kB/s eta 0:00:18\n",
      "   -- ------------------------------------- 0.1/1.4 MB 79.7 kB/s eta 0:00:17\n",
      "   -- ------------------------------------- 0.1/1.4 MB 79.7 kB/s eta 0:00:17\n",
      "   --- ------------------------------------ 0.1/1.4 MB 81.9 kB/s eta 0:00:17\n",
      "   --- ------------------------------------ 0.1/1.4 MB 81.9 kB/s eta 0:00:17\n",
      "   --- ------------------------------------ 0.1/1.4 MB 81.9 kB/s eta 0:00:17\n",
      "   --- ------------------------------------ 0.1/1.4 MB 81.9 kB/s eta 0:00:17\n",
      "   --- ------------------------------------ 0.1/1.4 MB 78.4 kB/s eta 0:00:17\n",
      "   --- ------------------------------------ 0.1/1.4 MB 78.4 kB/s eta 0:00:17\n",
      "   --- ------------------------------------ 0.1/1.4 MB 78.4 kB/s eta 0:00:17\n",
      "   --- ------------------------------------ 0.1/1.4 MB 78.4 kB/s eta 0:00:17\n",
      "   --- ------------------------------------ 0.1/1.4 MB 81.9 kB/s eta 0:00:16\n",
      "   --- ------------------------------------ 0.1/1.4 MB 81.9 kB/s eta 0:00:16\n",
      "   --- ------------------------------------ 0.1/1.4 MB 81.9 kB/s eta 0:00:16\n",
      "   --- ------------------------------------ 0.1/1.4 MB 81.9 kB/s eta 0:00:16\n",
      "   --- ------------------------------------ 0.1/1.4 MB 81.9 kB/s eta 0:00:16\n",
      "   --- ------------------------------------ 0.1/1.4 MB 81.9 kB/s eta 0:00:16\n",
      "   ---- ----------------------------------- 0.2/1.4 MB 74.6 kB/s eta 0:00:18\n",
      "   ---- ----------------------------------- 0.2/1.4 MB 74.6 kB/s eta 0:00:18\n",
      "   ---- ----------------------------------- 0.2/1.4 MB 74.6 kB/s eta 0:00:18\n",
      "   ---- ----------------------------------- 0.2/1.4 MB 80.7 kB/s eta 0:00:16\n",
      "   ---- ----------------------------------- 0.2/1.4 MB 80.7 kB/s eta 0:00:16\n",
      "   ---- ----------------------------------- 0.2/1.4 MB 80.7 kB/s eta 0:00:16\n",
      "   ---- ----------------------------------- 0.2/1.4 MB 80.7 kB/s eta 0:00:16\n",
      "   ---- ----------------------------------- 0.2/1.4 MB 80.7 kB/s eta 0:00:16\n",
      "   ----- ---------------------------------- 0.2/1.4 MB 80.8 kB/s eta 0:00:16\n",
      "   ----- ---------------------------------- 0.2/1.4 MB 80.8 kB/s eta 0:00:16\n",
      "   ----- ---------------------------------- 0.2/1.4 MB 80.8 kB/s eta 0:00:16\n",
      "   ----- ---------------------------------- 0.2/1.4 MB 80.9 kB/s eta 0:00:16\n",
      "   ----- ---------------------------------- 0.2/1.4 MB 80.9 kB/s eta 0:00:16\n",
      "   ----- ---------------------------------- 0.2/1.4 MB 80.9 kB/s eta 0:00:16\n",
      "   ----- ---------------------------------- 0.2/1.4 MB 80.9 kB/s eta 0:00:16\n",
      "   ------ --------------------------------- 0.2/1.4 MB 83.4 kB/s eta 0:00:15\n",
      "   ------ --------------------------------- 0.2/1.4 MB 83.4 kB/s eta 0:00:15\n",
      "   ------ --------------------------------- 0.2/1.4 MB 83.4 kB/s eta 0:00:15\n",
      "   ------ --------------------------------- 0.2/1.4 MB 83.4 kB/s eta 0:00:15\n",
      "   ------ --------------------------------- 0.2/1.4 MB 83.4 kB/s eta 0:00:15\n",
      "   ------ --------------------------------- 0.2/1.4 MB 83.4 kB/s eta 0:00:15\n",
      "   ------ --------------------------------- 0.2/1.4 MB 83.4 kB/s eta 0:00:15\n",
      "   ------ --------------------------------- 0.2/1.4 MB 83.4 kB/s eta 0:00:15\n",
      "   ------ --------------------------------- 0.2/1.4 MB 83.4 kB/s eta 0:00:15\n",
      "   ------ --------------------------------- 0.2/1.4 MB 83.4 kB/s eta 0:00:15\n",
      "   ------ --------------------------------- 0.2/1.4 MB 83.4 kB/s eta 0:00:15\n",
      "   ------ --------------------------------- 0.2/1.4 MB 83.4 kB/s eta 0:00:15\n",
      "   ------ --------------------------------- 0.2/1.4 MB 71.7 kB/s eta 0:00:17\n",
      "   ------ --------------------------------- 0.2/1.4 MB 71.7 kB/s eta 0:00:17\n",
      "   ------ --------------------------------- 0.2/1.4 MB 71.7 kB/s eta 0:00:17\n",
      "   ------- -------------------------------- 0.3/1.4 MB 74.2 kB/s eta 0:00:17\n",
      "   ------- -------------------------------- 0.3/1.4 MB 74.2 kB/s eta 0:00:17\n",
      "   ------- -------------------------------- 0.3/1.4 MB 74.2 kB/s eta 0:00:17\n",
      "   ------- -------------------------------- 0.3/1.4 MB 74.2 kB/s eta 0:00:17\n",
      "   ------- -------------------------------- 0.3/1.4 MB 74.2 kB/s eta 0:00:17\n",
      "   ------- -------------------------------- 0.3/1.4 MB 74.2 kB/s eta 0:00:17\n",
      "   ------- -------------------------------- 0.3/1.4 MB 74.7 kB/s eta 0:00:16\n",
      "   ------- -------------------------------- 0.3/1.4 MB 74.7 kB/s eta 0:00:16\n",
      "   ------- -------------------------------- 0.3/1.4 MB 74.7 kB/s eta 0:00:16\n",
      "   ------- -------------------------------- 0.3/1.4 MB 74.7 kB/s eta 0:00:16\n",
      "   ------- -------------------------------- 0.3/1.4 MB 74.7 kB/s eta 0:00:16\n",
      "   ------- -------------------------------- 0.3/1.4 MB 72.5 kB/s eta 0:00:17\n",
      "   ------- -------------------------------- 0.3/1.4 MB 72.5 kB/s eta 0:00:17\n",
      "   ------- -------------------------------- 0.3/1.4 MB 72.5 kB/s eta 0:00:17\n",
      "   ------- -------------------------------- 0.3/1.4 MB 72.5 kB/s eta 0:00:17\n",
      "   ------- -------------------------------- 0.3/1.4 MB 72.5 kB/s eta 0:00:17\n",
      "   ------- -------------------------------- 0.3/1.4 MB 72.5 kB/s eta 0:00:17\n",
      "   -------- ------------------------------- 0.3/1.4 MB 72.3 kB/s eta 0:00:16\n",
      "   -------- ------------------------------- 0.3/1.4 MB 72.3 kB/s eta 0:00:16\n",
      "   -------- ------------------------------- 0.3/1.4 MB 72.3 kB/s eta 0:00:16\n",
      "   -------- ------------------------------- 0.3/1.4 MB 72.3 kB/s eta 0:00:16\n",
      "   -------- ------------------------------- 0.3/1.4 MB 72.3 kB/s eta 0:00:16\n",
      "   -------- ------------------------------- 0.3/1.4 MB 71.0 kB/s eta 0:00:16\n",
      "   -------- ------------------------------- 0.3/1.4 MB 71.0 kB/s eta 0:00:16\n",
      "   -------- ------------------------------- 0.3/1.4 MB 71.0 kB/s eta 0:00:16\n",
      "   -------- ------------------------------- 0.3/1.4 MB 71.0 kB/s eta 0:00:16\n",
      "   -------- ------------------------------- 0.3/1.4 MB 71.0 kB/s eta 0:00:16\n",
      "   -------- ------------------------------- 0.3/1.4 MB 71.0 kB/s eta 0:00:16\n",
      "   -------- ------------------------------- 0.3/1.4 MB 71.0 kB/s eta 0:00:16\n",
      "   -------- ------------------------------- 0.3/1.4 MB 71.0 kB/s eta 0:00:16\n",
      "   --------- ------------------------------ 0.3/1.4 MB 69.7 kB/s eta 0:00:16\n",
      "   --------- ------------------------------ 0.3/1.4 MB 69.7 kB/s eta 0:00:16\n",
      "   --------- ------------------------------ 0.3/1.4 MB 69.7 kB/s eta 0:00:16\n",
      "   --------- ------------------------------ 0.3/1.4 MB 69.7 kB/s eta 0:00:16\n",
      "   --------- ------------------------------ 0.4/1.4 MB 71.0 kB/s eta 0:00:16\n",
      "   --------- ------------------------------ 0.4/1.4 MB 71.0 kB/s eta 0:00:16\n",
      "   --------- ------------------------------ 0.4/1.4 MB 71.0 kB/s eta 0:00:16\n",
      "   --------- ------------------------------ 0.4/1.4 MB 71.0 kB/s eta 0:00:16\n",
      "   --------- ------------------------------ 0.4/1.4 MB 71.0 kB/s eta 0:00:16\n",
      "   --------- ------------------------------ 0.4/1.4 MB 71.0 kB/s eta 0:00:16\n",
      "   ---------- ----------------------------- 0.4/1.4 MB 69.5 kB/s eta 0:00:16\n",
      "   ---------- ----------------------------- 0.4/1.4 MB 69.5 kB/s eta 0:00:16\n",
      "   ---------- ----------------------------- 0.4/1.4 MB 69.5 kB/s eta 0:00:16\n",
      "   ---------- ----------------------------- 0.4/1.4 MB 69.5 kB/s eta 0:00:16\n",
      "   ---------- ----------------------------- 0.4/1.4 MB 69.5 kB/s eta 0:00:16\n",
      "   ---------- ----------------------------- 0.4/1.4 MB 70.3 kB/s eta 0:00:16\n",
      "   ---------- ----------------------------- 0.4/1.4 MB 70.3 kB/s eta 0:00:16\n",
      "   ---------- ----------------------------- 0.4/1.4 MB 70.3 kB/s eta 0:00:16\n",
      "   ---------- ----------------------------- 0.4/1.4 MB 70.3 kB/s eta 0:00:16\n",
      "   ----------- ---------------------------- 0.4/1.4 MB 69.6 kB/s eta 0:00:16\n",
      "   ----------- ---------------------------- 0.4/1.4 MB 69.6 kB/s eta 0:00:16\n",
      "   ----------- ---------------------------- 0.4/1.4 MB 69.6 kB/s eta 0:00:16\n",
      "   ----------- ---------------------------- 0.4/1.4 MB 69.6 kB/s eta 0:00:16\n",
      "   ----------- ---------------------------- 0.4/1.4 MB 69.6 kB/s eta 0:00:16\n",
      "   ----------- ---------------------------- 0.4/1.4 MB 70.5 kB/s eta 0:00:15\n",
      "   ----------- ---------------------------- 0.4/1.4 MB 70.5 kB/s eta 0:00:15\n",
      "   ----------- ---------------------------- 0.4/1.4 MB 70.5 kB/s eta 0:00:15\n",
      "   ----------- ---------------------------- 0.4/1.4 MB 70.5 kB/s eta 0:00:15\n",
      "   ------------ --------------------------- 0.4/1.4 MB 71.9 kB/s eta 0:00:15\n",
      "   ------------ --------------------------- 0.4/1.4 MB 71.9 kB/s eta 0:00:15\n",
      "   ------------ --------------------------- 0.4/1.4 MB 71.9 kB/s eta 0:00:15\n",
      "   ------------ --------------------------- 0.4/1.4 MB 71.9 kB/s eta 0:00:15\n",
      "   ------------ --------------------------- 0.5/1.4 MB 71.4 kB/s eta 0:00:15\n",
      "   ------------ --------------------------- 0.5/1.4 MB 71.4 kB/s eta 0:00:15\n",
      "   ------------ --------------------------- 0.5/1.4 MB 71.4 kB/s eta 0:00:15\n",
      "   ------------ --------------------------- 0.5/1.4 MB 72.6 kB/s eta 0:00:14\n",
      "   ------------ --------------------------- 0.5/1.4 MB 72.6 kB/s eta 0:00:14\n",
      "   ------------ --------------------------- 0.5/1.4 MB 72.6 kB/s eta 0:00:14\n",
      "   ------------- -------------------------- 0.5/1.4 MB 72.8 kB/s eta 0:00:14\n",
      "   ------------- -------------------------- 0.5/1.4 MB 72.8 kB/s eta 0:00:14\n",
      "   ------------- -------------------------- 0.5/1.4 MB 72.8 kB/s eta 0:00:14\n",
      "   ------------- -------------------------- 0.5/1.4 MB 74.6 kB/s eta 0:00:13\n",
      "   ------------- -------------------------- 0.5/1.4 MB 74.6 kB/s eta 0:00:13\n",
      "   ------------- -------------------------- 0.5/1.4 MB 74.6 kB/s eta 0:00:13\n",
      "   -------------- ------------------------- 0.5/1.4 MB 75.7 kB/s eta 0:00:13\n",
      "   -------------- ------------------------- 0.5/1.4 MB 75.7 kB/s eta 0:00:13\n",
      "   -------------- ------------------------- 0.5/1.4 MB 75.7 kB/s eta 0:00:13\n",
      "   -------------- ------------------------- 0.5/1.4 MB 76.0 kB/s eta 0:00:13\n",
      "   -------------- ------------------------- 0.5/1.4 MB 76.0 kB/s eta 0:00:13\n",
      "   --------------- ------------------------ 0.6/1.4 MB 77.7 kB/s eta 0:00:12\n",
      "   --------------- ------------------------ 0.6/1.4 MB 77.7 kB/s eta 0:00:12\n",
      "   --------------- ------------------------ 0.6/1.4 MB 78.1 kB/s eta 0:00:12\n",
      "   --------------- ------------------------ 0.6/1.4 MB 78.1 kB/s eta 0:00:12\n",
      "   --------------- ------------------------ 0.6/1.4 MB 78.1 kB/s eta 0:00:12\n",
      "   --------------- ------------------------ 0.6/1.4 MB 78.1 kB/s eta 0:00:12\n",
      "   --------------- ------------------------ 0.6/1.4 MB 78.1 kB/s eta 0:00:12\n",
      "   --------------- ------------------------ 0.6/1.4 MB 78.1 kB/s eta 0:00:12\n",
      "   --------------- ------------------------ 0.6/1.4 MB 78.1 kB/s eta 0:00:12\n",
      "   --------------- ------------------------ 0.6/1.4 MB 78.1 kB/s eta 0:00:12\n",
      "   --------------- ------------------------ 0.6/1.4 MB 78.1 kB/s eta 0:00:12\n",
      "   ---------------- ----------------------- 0.6/1.4 MB 76.3 kB/s eta 0:00:12\n",
      "   ---------------- ----------------------- 0.6/1.4 MB 76.3 kB/s eta 0:00:12\n",
      "   ---------------- ----------------------- 0.6/1.4 MB 76.3 kB/s eta 0:00:12\n",
      "   ---------------- ----------------------- 0.6/1.4 MB 77.7 kB/s eta 0:00:11\n",
      "   ---------------- ----------------------- 0.6/1.4 MB 77.7 kB/s eta 0:00:11\n",
      "   ---------------- ----------------------- 0.6/1.4 MB 77.7 kB/s eta 0:00:11\n",
      "   ---------------- ----------------------- 0.6/1.4 MB 77.5 kB/s eta 0:00:11\n",
      "   ---------------- ----------------------- 0.6/1.4 MB 77.5 kB/s eta 0:00:11\n",
      "   ---------------- ----------------------- 0.6/1.4 MB 77.5 kB/s eta 0:00:11\n",
      "   ----------------- ---------------------- 0.6/1.4 MB 79.0 kB/s eta 0:00:11\n",
      "   ----------------- ---------------------- 0.6/1.4 MB 79.0 kB/s eta 0:00:11\n",
      "   ----------------- ---------------------- 0.6/1.4 MB 79.1 kB/s eta 0:00:11\n",
      "   ----------------- ---------------------- 0.6/1.4 MB 79.1 kB/s eta 0:00:11\n",
      "   ----------------- ---------------------- 0.6/1.4 MB 79.1 kB/s eta 0:00:11\n",
      "   ------------------ --------------------- 0.7/1.4 MB 80.4 kB/s eta 0:00:10\n",
      "   ------------------ --------------------- 0.7/1.4 MB 80.4 kB/s eta 0:00:10\n",
      "   ------------------ --------------------- 0.7/1.4 MB 80.4 kB/s eta 0:00:10\n",
      "   ------------------ --------------------- 0.7/1.4 MB 81.6 kB/s eta 0:00:10\n",
      "   ------------------ --------------------- 0.7/1.4 MB 81.6 kB/s eta 0:00:10\n",
      "   ------------------ --------------------- 0.7/1.4 MB 81.6 kB/s eta 0:00:10\n",
      "   ------------------ --------------------- 0.7/1.4 MB 81.6 kB/s eta 0:00:10\n",
      "   ------------------ --------------------- 0.7/1.4 MB 81.6 kB/s eta 0:00:10\n",
      "   ------------------ --------------------- 0.7/1.4 MB 81.6 kB/s eta 0:00:10\n",
      "   ------------------ --------------------- 0.7/1.4 MB 81.6 kB/s eta 0:00:10\n",
      "   ------------------ --------------------- 0.7/1.4 MB 81.6 kB/s eta 0:00:10\n",
      "   ------------------- -------------------- 0.7/1.4 MB 81.6 kB/s eta 0:00:09\n",
      "   ------------------- -------------------- 0.7/1.4 MB 81.6 kB/s eta 0:00:09\n",
      "   ------------------- -------------------- 0.7/1.4 MB 81.6 kB/s eta 0:00:09\n",
      "   ------------------- -------------------- 0.7/1.4 MB 81.6 kB/s eta 0:00:09\n",
      "   -------------------- ------------------- 0.7/1.4 MB 80.8 kB/s eta 0:00:09\n",
      "   -------------------- ------------------- 0.7/1.4 MB 80.8 kB/s eta 0:00:09\n",
      "   -------------------- ------------------- 0.7/1.4 MB 80.8 kB/s eta 0:00:09\n",
      "   -------------------- ------------------- 0.7/1.4 MB 82.2 kB/s eta 0:00:09\n",
      "   -------------------- ------------------- 0.7/1.4 MB 82.2 kB/s eta 0:00:09\n",
      "   --------------------- ------------------ 0.8/1.4 MB 83.3 kB/s eta 0:00:09\n",
      "   --------------------- ------------------ 0.8/1.4 MB 83.3 kB/s eta 0:00:09\n",
      "   --------------------- ------------------ 0.8/1.4 MB 83.6 kB/s eta 0:00:09\n",
      "   --------------------- ------------------ 0.8/1.4 MB 83.6 kB/s eta 0:00:09\n",
      "   ---------------------- ----------------- 0.8/1.4 MB 84.8 kB/s eta 0:00:08\n",
      "   ---------------------- ----------------- 0.8/1.4 MB 84.8 kB/s eta 0:00:08\n",
      "   ---------------------- ----------------- 0.8/1.4 MB 84.8 kB/s eta 0:00:08\n",
      "   ---------------------- ----------------- 0.8/1.4 MB 85.1 kB/s eta 0:00:08\n",
      "   ---------------------- ----------------- 0.8/1.4 MB 86.4 kB/s eta 0:00:08\n",
      "   ---------------------- ----------------- 0.8/1.4 MB 86.4 kB/s eta 0:00:08\n",
      "   ---------------------- ----------------- 0.8/1.4 MB 86.4 kB/s eta 0:00:08\n",
      "   ----------------------- ---------------- 0.8/1.4 MB 87.7 kB/s eta 0:00:07\n",
      "   ----------------------- ---------------- 0.8/1.4 MB 87.7 kB/s eta 0:00:07\n",
      "   ----------------------- ---------------- 0.8/1.4 MB 87.7 kB/s eta 0:00:07\n",
      "   ----------------------- ---------------- 0.8/1.4 MB 87.7 kB/s eta 0:00:07\n",
      "   ----------------------- ---------------- 0.8/1.4 MB 87.7 kB/s eta 0:00:07\n",
      "   ----------------------- ---------------- 0.8/1.4 MB 87.7 kB/s eta 0:00:07\n",
      "   ----------------------- ---------------- 0.8/1.4 MB 87.7 kB/s eta 0:00:07\n",
      "   ----------------------- ---------------- 0.8/1.4 MB 87.7 kB/s eta 0:00:07\n",
      "   ----------------------- ---------------- 0.8/1.4 MB 87.7 kB/s eta 0:00:07\n",
      "   ----------------------- ---------------- 0.8/1.4 MB 87.7 kB/s eta 0:00:07\n",
      "   ------------------------ --------------- 0.9/1.4 MB 86.5 kB/s eta 0:00:07\n",
      "   ------------------------ --------------- 0.9/1.4 MB 86.5 kB/s eta 0:00:07\n",
      "   ------------------------ --------------- 0.9/1.4 MB 86.5 kB/s eta 0:00:07\n",
      "   ------------------------ --------------- 0.9/1.4 MB 86.5 kB/s eta 0:00:07\n",
      "   ------------------------ --------------- 0.9/1.4 MB 86.5 kB/s eta 0:00:07\n",
      "   ------------------------ --------------- 0.9/1.4 MB 85.5 kB/s eta 0:00:07\n",
      "   ------------------------- -------------- 0.9/1.4 MB 87.1 kB/s eta 0:00:07\n",
      "   ------------------------- -------------- 0.9/1.4 MB 87.1 kB/s eta 0:00:07\n",
      "   ------------------------- -------------- 0.9/1.4 MB 87.1 kB/s eta 0:00:07\n",
      "   ------------------------- -------------- 0.9/1.4 MB 87.1 kB/s eta 0:00:07\n",
      "   ------------------------- -------------- 0.9/1.4 MB 87.1 kB/s eta 0:00:07\n",
      "   ------------------------- -------------- 0.9/1.4 MB 87.1 kB/s eta 0:00:07\n",
      "   ------------------------- -------------- 0.9/1.4 MB 87.1 kB/s eta 0:00:07\n",
      "   ------------------------- -------------- 0.9/1.4 MB 87.1 kB/s eta 0:00:07\n",
      "   ------------------------- -------------- 0.9/1.4 MB 87.1 kB/s eta 0:00:07\n",
      "   ------------------------- -------------- 0.9/1.4 MB 85.7 kB/s eta 0:00:07\n",
      "   ------------------------- -------------- 0.9/1.4 MB 86.2 kB/s eta 0:00:06\n",
      "   ------------------------- -------------- 0.9/1.4 MB 86.2 kB/s eta 0:00:06\n",
      "   ------------------------- -------------- 0.9/1.4 MB 86.2 kB/s eta 0:00:06\n",
      "   ------------------------- -------------- 0.9/1.4 MB 86.2 kB/s eta 0:00:06\n",
      "   ------------------------- -------------- 0.9/1.4 MB 86.2 kB/s eta 0:00:06\n",
      "   -------------------------- ------------- 1.0/1.4 MB 86.3 kB/s eta 0:00:06\n",
      "   -------------------------- ------------- 1.0/1.4 MB 86.3 kB/s eta 0:00:06\n",
      "   -------------------------- ------------- 1.0/1.4 MB 86.3 kB/s eta 0:00:06\n",
      "   -------------------------- ------------- 1.0/1.4 MB 86.3 kB/s eta 0:00:06\n",
      "   -------------------------- ------------- 1.0/1.4 MB 85.7 kB/s eta 0:00:06\n",
      "   -------------------------- ------------- 1.0/1.4 MB 85.7 kB/s eta 0:00:06\n",
      "   -------------------------- ------------- 1.0/1.4 MB 85.7 kB/s eta 0:00:06\n",
      "   -------------------------- ------------- 1.0/1.4 MB 85.7 kB/s eta 0:00:06\n",
      "   -------------------------- ------------- 1.0/1.4 MB 85.7 kB/s eta 0:00:06\n",
      "   --------------------------- ------------ 1.0/1.4 MB 85.8 kB/s eta 0:00:06\n",
      "   --------------------------- ------------ 1.0/1.4 MB 85.8 kB/s eta 0:00:06\n",
      "   --------------------------- ------------ 1.0/1.4 MB 85.8 kB/s eta 0:00:06\n",
      "   --------------------------- ------------ 1.0/1.4 MB 85.8 kB/s eta 0:00:06\n",
      "   --------------------------- ------------ 1.0/1.4 MB 85.8 kB/s eta 0:00:06\n",
      "   --------------------------- ------------ 1.0/1.4 MB 85.8 kB/s eta 0:00:06\n",
      "   --------------------------- ------------ 1.0/1.4 MB 85.3 kB/s eta 0:00:06\n",
      "   --------------------------- ------------ 1.0/1.4 MB 85.3 kB/s eta 0:00:06\n",
      "   ---------------------------- ----------- 1.0/1.4 MB 85.5 kB/s eta 0:00:05\n",
      "   ---------------------------- ----------- 1.0/1.4 MB 85.5 kB/s eta 0:00:05\n",
      "   ---------------------------- ----------- 1.0/1.4 MB 85.5 kB/s eta 0:00:05\n",
      "   ---------------------------- ----------- 1.0/1.4 MB 85.5 kB/s eta 0:00:05\n",
      "   ---------------------------- ----------- 1.0/1.4 MB 85.5 kB/s eta 0:00:05\n",
      "   ---------------------------- ----------- 1.0/1.4 MB 85.5 kB/s eta 0:00:05\n",
      "   ---------------------------- ----------- 1.0/1.4 MB 85.5 kB/s eta 0:00:05\n",
      "   ---------------------------- ----------- 1.0/1.4 MB 85.5 kB/s eta 0:00:05\n",
      "   ---------------------------- ----------- 1.0/1.4 MB 85.5 kB/s eta 0:00:05\n",
      "   ---------------------------- ----------- 1.0/1.4 MB 85.5 kB/s eta 0:00:05\n",
      "   ---------------------------- ----------- 1.0/1.4 MB 85.5 kB/s eta 0:00:05\n",
      "   ---------------------------- ----------- 1.0/1.4 MB 85.5 kB/s eta 0:00:05\n",
      "   ----------------------------- ---------- 1.1/1.4 MB 84.3 kB/s eta 0:00:05\n",
      "   ----------------------------- ---------- 1.1/1.4 MB 84.3 kB/s eta 0:00:05\n",
      "   ----------------------------- ---------- 1.1/1.4 MB 84.3 kB/s eta 0:00:05\n",
      "   ----------------------------- ---------- 1.1/1.4 MB 84.3 kB/s eta 0:00:05\n",
      "   ----------------------------- ---------- 1.1/1.4 MB 84.7 kB/s eta 0:00:05\n",
      "   ----------------------------- ---------- 1.1/1.4 MB 84.7 kB/s eta 0:00:05\n",
      "   ----------------------------- ---------- 1.1/1.4 MB 84.7 kB/s eta 0:00:05\n",
      "   ----------------------------- ---------- 1.1/1.4 MB 84.7 kB/s eta 0:00:05\n",
      "   ----------------------------- ---------- 1.1/1.4 MB 84.7 kB/s eta 0:00:05\n",
      "   ------------------------------ --------- 1.1/1.4 MB 84.7 kB/s eta 0:00:05\n",
      "   ------------------------------ --------- 1.1/1.4 MB 84.7 kB/s eta 0:00:05\n",
      "   ------------------------------ --------- 1.1/1.4 MB 84.7 kB/s eta 0:00:05\n",
      "   ------------------------------ --------- 1.1/1.4 MB 84.7 kB/s eta 0:00:05\n",
      "   ------------------------------ --------- 1.1/1.4 MB 84.7 kB/s eta 0:00:05\n",
      "   ------------------------------ --------- 1.1/1.4 MB 84.7 kB/s eta 0:00:05\n",
      "   ------------------------------ --------- 1.1/1.4 MB 84.7 kB/s eta 0:00:05\n",
      "   ------------------------------ --------- 1.1/1.4 MB 84.7 kB/s eta 0:00:05\n",
      "   ------------------------------ --------- 1.1/1.4 MB 84.7 kB/s eta 0:00:05\n",
      "   ------------------------------ --------- 1.1/1.4 MB 82.8 kB/s eta 0:00:05\n",
      "   ------------------------------ --------- 1.1/1.4 MB 82.8 kB/s eta 0:00:05\n",
      "   ------------------------------ --------- 1.1/1.4 MB 82.8 kB/s eta 0:00:05\n",
      "   ------------------------------ --------- 1.1/1.4 MB 82.8 kB/s eta 0:00:05\n",
      "   ------------------------------ --------- 1.1/1.4 MB 82.8 kB/s eta 0:00:05\n",
      "   ------------------------------ --------- 1.1/1.4 MB 82.8 kB/s eta 0:00:05\n",
      "   ------------------------------ --------- 1.1/1.4 MB 82.8 kB/s eta 0:00:05\n",
      "   ------------------------------ --------- 1.1/1.4 MB 82.8 kB/s eta 0:00:05\n",
      "   ------------------------------ --------- 1.1/1.4 MB 82.8 kB/s eta 0:00:05\n",
      "   ------------------------------- -------- 1.1/1.4 MB 81.5 kB/s eta 0:00:04\n",
      "   ------------------------------- -------- 1.1/1.4 MB 81.5 kB/s eta 0:00:04\n",
      "   ------------------------------- -------- 1.1/1.4 MB 81.5 kB/s eta 0:00:04\n",
      "   ------------------------------- -------- 1.1/1.4 MB 81.5 kB/s eta 0:00:04\n",
      "   ------------------------------- -------- 1.1/1.4 MB 81.5 kB/s eta 0:00:04\n",
      "   ------------------------------- -------- 1.1/1.4 MB 81.5 kB/s eta 0:00:04\n",
      "   ------------------------------- -------- 1.1/1.4 MB 81.5 kB/s eta 0:00:04\n",
      "   ------------------------------- -------- 1.1/1.4 MB 81.5 kB/s eta 0:00:04\n",
      "   ------------------------------- -------- 1.1/1.4 MB 81.5 kB/s eta 0:00:04\n",
      "   ------------------------------- -------- 1.1/1.4 MB 81.5 kB/s eta 0:00:04\n",
      "   ------------------------------- -------- 1.1/1.4 MB 81.5 kB/s eta 0:00:04\n",
      "   ------------------------------- -------- 1.1/1.4 MB 81.5 kB/s eta 0:00:04\n",
      "   ------------------------------- -------- 1.1/1.4 MB 81.5 kB/s eta 0:00:04\n",
      "   ------------------------------- -------- 1.1/1.4 MB 81.5 kB/s eta 0:00:04\n",
      "   ------------------------------- -------- 1.1/1.4 MB 81.5 kB/s eta 0:00:04\n",
      "   ------------------------------- -------- 1.1/1.4 MB 81.5 kB/s eta 0:00:04\n",
      "   ------------------------------- -------- 1.1/1.4 MB 81.5 kB/s eta 0:00:04\n",
      "   ------------------------------- -------- 1.1/1.4 MB 81.5 kB/s eta 0:00:04\n",
      "   ------------------------------- -------- 1.1/1.4 MB 81.5 kB/s eta 0:00:04\n",
      "   ------------------------------- -------- 1.1/1.4 MB 81.5 kB/s eta 0:00:04\n",
      "   ------------------------------- -------- 1.1/1.4 MB 81.5 kB/s eta 0:00:04\n",
      "   ------------------------------- -------- 1.1/1.4 MB 81.5 kB/s eta 0:00:04\n",
      "   ------------------------------- -------- 1.1/1.4 MB 81.5 kB/s eta 0:00:04\n",
      "   ------------------------------- -------- 1.1/1.4 MB 81.5 kB/s eta 0:00:04\n",
      "   ------------------------------- -------- 1.1/1.4 MB 81.5 kB/s eta 0:00:04\n",
      "   ------------------------------- -------- 1.1/1.4 MB 81.5 kB/s eta 0:00:04\n",
      "   ------------------------------- -------- 1.1/1.4 MB 81.5 kB/s eta 0:00:04\n",
      "   ------------------------------- -------- 1.1/1.4 MB 81.5 kB/s eta 0:00:04\n",
      "   ------------------------------- -------- 1.1/1.4 MB 81.5 kB/s eta 0:00:04\n",
      "   ------------------------------- -------- 1.1/1.4 MB 81.5 kB/s eta 0:00:04\n",
      "   ------------------------------- -------- 1.1/1.4 MB 81.5 kB/s eta 0:00:04\n",
      "   ------------------------------- -------- 1.1/1.4 MB 81.5 kB/s eta 0:00:04\n",
      "   ------------------------------- -------- 1.1/1.4 MB 81.5 kB/s eta 0:00:04\n",
      "   ------------------------------- -------- 1.1/1.4 MB 81.5 kB/s eta 0:00:04\n",
      "   ------------------------------- -------- 1.1/1.4 MB 81.5 kB/s eta 0:00:04\n",
      "   ------------------------------- -------- 1.1/1.4 MB 81.5 kB/s eta 0:00:04\n",
      "   ------------------------------- -------- 1.1/1.4 MB 81.5 kB/s eta 0:00:04\n",
      "   ------------------------------- -------- 1.1/1.4 MB 81.5 kB/s eta 0:00:04\n",
      "   ------------------------------- -------- 1.1/1.4 MB 81.5 kB/s eta 0:00:04\n",
      "   ------------------------------- -------- 1.1/1.4 MB 81.5 kB/s eta 0:00:04\n",
      "   ------------------------------- -------- 1.1/1.4 MB 81.5 kB/s eta 0:00:04\n",
      "   ------------------------------- -------- 1.1/1.4 MB 81.5 kB/s eta 0:00:04\n",
      "   ------------------------------- -------- 1.1/1.4 MB 72.0 kB/s eta 0:00:05\n",
      "   ------------------------------- -------- 1.1/1.4 MB 72.0 kB/s eta 0:00:05\n",
      "   ------------------------------- -------- 1.1/1.4 MB 72.0 kB/s eta 0:00:05\n",
      "   ------------------------------- -------- 1.1/1.4 MB 72.0 kB/s eta 0:00:05\n",
      "   ------------------------------- -------- 1.1/1.4 MB 72.0 kB/s eta 0:00:05\n",
      "   ------------------------------- -------- 1.1/1.4 MB 72.0 kB/s eta 0:00:05\n",
      "   ------------------------------- -------- 1.1/1.4 MB 72.0 kB/s eta 0:00:05\n",
      "   ------------------------------- -------- 1.1/1.4 MB 72.0 kB/s eta 0:00:05\n",
      "   ------------------------------- -------- 1.2/1.4 MB 71.7 kB/s eta 0:00:05\n",
      "   ------------------------------- -------- 1.2/1.4 MB 71.7 kB/s eta 0:00:05\n",
      "   ------------------------------- -------- 1.2/1.4 MB 71.7 kB/s eta 0:00:05\n",
      "   ------------------------------- -------- 1.2/1.4 MB 71.7 kB/s eta 0:00:05\n",
      "   ------------------------------- -------- 1.2/1.4 MB 71.7 kB/s eta 0:00:05\n",
      "   ------------------------------- -------- 1.2/1.4 MB 71.7 kB/s eta 0:00:05\n",
      "   ------------------------------- -------- 1.2/1.4 MB 71.7 kB/s eta 0:00:05\n",
      "   ------------------------------- -------- 1.2/1.4 MB 71.7 kB/s eta 0:00:05\n",
      "   ------------------------------- -------- 1.2/1.4 MB 71.7 kB/s eta 0:00:05\n",
      "   ------------------------------- -------- 1.2/1.4 MB 71.7 kB/s eta 0:00:05\n",
      "   ------------------------------- -------- 1.2/1.4 MB 71.7 kB/s eta 0:00:05\n",
      "   ------------------------------- -------- 1.2/1.4 MB 71.7 kB/s eta 0:00:05\n",
      "   -------------------------------- ------- 1.2/1.4 MB 70.4 kB/s eta 0:00:04\n",
      "   -------------------------------- ------- 1.2/1.4 MB 70.4 kB/s eta 0:00:04\n",
      "   -------------------------------- ------- 1.2/1.4 MB 70.4 kB/s eta 0:00:04\n",
      "   -------------------------------- ------- 1.2/1.4 MB 70.4 kB/s eta 0:00:04\n",
      "   -------------------------------- ------- 1.2/1.4 MB 70.4 kB/s eta 0:00:04\n",
      "   -------------------------------- ------- 1.2/1.4 MB 70.4 kB/s eta 0:00:04\n",
      "   -------------------------------- ------- 1.2/1.4 MB 70.4 kB/s eta 0:00:04\n",
      "   -------------------------------- ------- 1.2/1.4 MB 70.4 kB/s eta 0:00:04\n",
      "   -------------------------------- ------- 1.2/1.4 MB 70.4 kB/s eta 0:00:04\n",
      "   -------------------------------- ------- 1.2/1.4 MB 70.4 kB/s eta 0:00:04\n",
      "   -------------------------------- ------- 1.2/1.4 MB 69.1 kB/s eta 0:00:04\n",
      "   -------------------------------- ------- 1.2/1.4 MB 69.1 kB/s eta 0:00:04\n",
      "   -------------------------------- ------- 1.2/1.4 MB 69.1 kB/s eta 0:00:04\n",
      "   -------------------------------- ------- 1.2/1.4 MB 69.1 kB/s eta 0:00:04\n",
      "   -------------------------------- ------- 1.2/1.4 MB 69.1 kB/s eta 0:00:04\n",
      "   -------------------------------- ------- 1.2/1.4 MB 69.1 kB/s eta 0:00:04\n",
      "   -------------------------------- ------- 1.2/1.4 MB 69.1 kB/s eta 0:00:04\n",
      "   --------------------------------- ------ 1.2/1.4 MB 69.0 kB/s eta 0:00:04\n",
      "   --------------------------------- ------ 1.2/1.4 MB 69.0 kB/s eta 0:00:04\n",
      "   --------------------------------- ------ 1.2/1.4 MB 69.0 kB/s eta 0:00:04\n",
      "   --------------------------------- ------ 1.2/1.4 MB 69.0 kB/s eta 0:00:04\n",
      "   --------------------------------- ------ 1.2/1.4 MB 69.0 kB/s eta 0:00:04\n",
      "   --------------------------------- ------ 1.2/1.4 MB 69.0 kB/s eta 0:00:04\n",
      "   --------------------------------- ------ 1.2/1.4 MB 69.0 kB/s eta 0:00:04\n",
      "   --------------------------------- ------ 1.2/1.4 MB 69.0 kB/s eta 0:00:04\n",
      "   --------------------------------- ------ 1.2/1.4 MB 69.0 kB/s eta 0:00:04\n",
      "   --------------------------------- ------ 1.2/1.4 MB 68.0 kB/s eta 0:00:04\n",
      "   --------------------------------- ------ 1.2/1.4 MB 68.0 kB/s eta 0:00:04\n",
      "   --------------------------------- ------ 1.2/1.4 MB 68.0 kB/s eta 0:00:04\n",
      "   --------------------------------- ------ 1.2/1.4 MB 68.0 kB/s eta 0:00:04\n",
      "   --------------------------------- ------ 1.2/1.4 MB 68.0 kB/s eta 0:00:04\n",
      "   ---------------------------------- ----- 1.2/1.4 MB 68.1 kB/s eta 0:00:04\n",
      "   ---------------------------------- ----- 1.2/1.4 MB 68.1 kB/s eta 0:00:04\n",
      "   ---------------------------------- ----- 1.2/1.4 MB 68.1 kB/s eta 0:00:04\n",
      "   ---------------------------------- ----- 1.2/1.4 MB 68.1 kB/s eta 0:00:04\n",
      "   ---------------------------------- ----- 1.2/1.4 MB 68.1 kB/s eta 0:00:04\n",
      "   ---------------------------------- ----- 1.2/1.4 MB 68.1 kB/s eta 0:00:04\n",
      "   ---------------------------------- ----- 1.3/1.4 MB 68.3 kB/s eta 0:00:03\n",
      "   ---------------------------------- ----- 1.3/1.4 MB 68.3 kB/s eta 0:00:03\n",
      "   ---------------------------------- ----- 1.3/1.4 MB 68.3 kB/s eta 0:00:03\n",
      "   ---------------------------------- ----- 1.3/1.4 MB 68.3 kB/s eta 0:00:03\n",
      "   ---------------------------------- ----- 1.3/1.4 MB 68.3 kB/s eta 0:00:03\n",
      "   ----------------------------------- ---- 1.3/1.4 MB 68.0 kB/s eta 0:00:03\n",
      "   ----------------------------------- ---- 1.3/1.4 MB 68.0 kB/s eta 0:00:03\n",
      "   ----------------------------------- ---- 1.3/1.4 MB 68.0 kB/s eta 0:00:03\n",
      "   ----------------------------------- ---- 1.3/1.4 MB 68.0 kB/s eta 0:00:03\n",
      "   ----------------------------------- ---- 1.3/1.4 MB 68.4 kB/s eta 0:00:03\n",
      "   ----------------------------------- ---- 1.3/1.4 MB 68.4 kB/s eta 0:00:03\n",
      "   ----------------------------------- ---- 1.3/1.4 MB 68.4 kB/s eta 0:00:03\n",
      "   ----------------------------------- ---- 1.3/1.4 MB 68.4 kB/s eta 0:00:03\n",
      "   ----------------------------------- ---- 1.3/1.4 MB 68.4 kB/s eta 0:00:03\n",
      "   ----------------------------------- ---- 1.3/1.4 MB 68.2 kB/s eta 0:00:03\n",
      "   ----------------------------------- ---- 1.3/1.4 MB 68.2 kB/s eta 0:00:03\n",
      "   ----------------------------------- ---- 1.3/1.4 MB 68.2 kB/s eta 0:00:03\n",
      "   ----------------------------------- ---- 1.3/1.4 MB 68.2 kB/s eta 0:00:03\n",
      "   ------------------------------------ --- 1.3/1.4 MB 68.8 kB/s eta 0:00:02\n",
      "   ------------------------------------ --- 1.3/1.4 MB 68.8 kB/s eta 0:00:02\n",
      "   ------------------------------------ --- 1.3/1.4 MB 68.8 kB/s eta 0:00:02\n",
      "   ------------------------------------- -- 1.3/1.4 MB 69.3 kB/s eta 0:00:02\n",
      "   ------------------------------------- -- 1.3/1.4 MB 69.3 kB/s eta 0:00:02\n",
      "   ------------------------------------- -- 1.3/1.4 MB 69.3 kB/s eta 0:00:02\n",
      "   ------------------------------------- -- 1.4/1.4 MB 69.3 kB/s eta 0:00:02\n",
      "   ------------------------------------- -- 1.4/1.4 MB 69.3 kB/s eta 0:00:02\n",
      "   ------------------------------------- -- 1.4/1.4 MB 69.3 kB/s eta 0:00:02\n",
      "   ------------------------------------- -- 1.4/1.4 MB 70.0 kB/s eta 0:00:02\n",
      "   ------------------------------------- -- 1.4/1.4 MB 70.0 kB/s eta 0:00:02\n",
      "   ------------------------------------- -- 1.4/1.4 MB 70.0 kB/s eta 0:00:02\n",
      "   -------------------------------------- - 1.4/1.4 MB 70.0 kB/s eta 0:00:01\n",
      "   -------------------------------------- - 1.4/1.4 MB 70.0 kB/s eta 0:00:01\n",
      "   -------------------------------------- - 1.4/1.4 MB 70.6 kB/s eta 0:00:01\n",
      "   -------------------------------------- - 1.4/1.4 MB 70.6 kB/s eta 0:00:01\n",
      "   -------------------------------------- - 1.4/1.4 MB 70.6 kB/s eta 0:00:01\n",
      "   -------------------------------------- - 1.4/1.4 MB 70.6 kB/s eta 0:00:01\n",
      "   -------------------------------------- - 1.4/1.4 MB 70.6 kB/s eta 0:00:01\n",
      "   -------------------------------------- - 1.4/1.4 MB 70.6 kB/s eta 0:00:01\n",
      "   -------------------------------------- - 1.4/1.4 MB 70.6 kB/s eta 0:00:01\n",
      "   -------------------------------------- - 1.4/1.4 MB 70.6 kB/s eta 0:00:01\n",
      "   -------------------------------------- - 1.4/1.4 MB 70.6 kB/s eta 0:00:01\n",
      "   -------------------------------------- - 1.4/1.4 MB 70.6 kB/s eta 0:00:01\n",
      "   -------------------------------------- - 1.4/1.4 MB 70.6 kB/s eta 0:00:01\n",
      "   -------------------------------------- - 1.4/1.4 MB 70.6 kB/s eta 0:00:01\n",
      "   -------------------------------------- - 1.4/1.4 MB 70.6 kB/s eta 0:00:01\n",
      "   -------------------------------------- - 1.4/1.4 MB 70.6 kB/s eta 0:00:01\n",
      "   -------------------------------------- - 1.4/1.4 MB 70.6 kB/s eta 0:00:01\n",
      "   ---------------------------------------  1.4/1.4 MB 69.0 kB/s eta 0:00:01\n",
      "   ---------------------------------------  1.4/1.4 MB 69.0 kB/s eta 0:00:01\n",
      "   ---------------------------------------  1.4/1.4 MB 69.0 kB/s eta 0:00:01\n",
      "   ---------------------------------------  1.4/1.4 MB 69.0 kB/s eta 0:00:01\n",
      "   ---------------------------------------  1.4/1.4 MB 68.9 kB/s eta 0:00:01\n",
      "   ---------------------------------------  1.4/1.4 MB 68.9 kB/s eta 0:00:01\n",
      "   ---------------------------------------- 1.4/1.4 MB 69.4 kB/s eta 0:00:00\n",
      "Installing collected packages: mlxtend\n",
      "Successfully installed mlxtend-0.23.1\n",
      "Note: you may need to restart the kernel to use updated packages.\n"
     ]
    }
   ],
   "source": [
    "pip install mlxtend\n"
   ]
  },
  {
   "cell_type": "code",
   "execution_count": 35,
   "metadata": {},
   "outputs": [],
   "source": [
    "from mlxtend.plotting import plot_decision_regions\n"
   ]
  },
  {
   "cell_type": "code",
   "execution_count": 36,
   "metadata": {},
   "outputs": [
    {
     "data": {
      "text/plain": [
       "<Axes: >"
      ]
     },
     "execution_count": 36,
     "metadata": {},
     "output_type": "execute_result"
    },
    {
     "data": {
      "image/png": "[encoded data removed]",
      "text/plain": [
       "<Figure size 640x480 with 1 Axes>"
      ]
     },
     "metadata": {},
     "output_type": "display_data"
    }
   ],
   "source": [
    "plot_decision_regions(xor_data.iloc[:,0:2].values,xor_data.iloc[:,-1].values, clf=clf3, legend=2)"
   ]
  },
  {
   "cell_type": "code",
   "execution_count": null,
   "metadata": {},
   "outputs": [],
   "source": []
  }
 ],
 "metadata": {
  "kernelspec": {
   "display_name": "ml_env",
   "language": "python",
   "name": "python3"
  },
  "language_info": {
   "codemirror_mode": {
    "name": "ipython",
    "version": 3
   },
   "file_extension": ".py",
   "mimetype": "text/x-python",
   "name": "python",
   "nbconvert_exporter": "python",
   "pygments_lexer": "ipython3",
   "version": "3.12.0"
  }
 },
 "nbformat": 4,
 "nbformat_minor": 2
}
